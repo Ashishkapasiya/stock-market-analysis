{
 "cells": [
  {
   "cell_type": "code",
   "execution_count": 20,
   "metadata": {},
   "outputs": [],
   "source": [
    "import pandas as pd\n",
    "import numpy as np\n",
    "from pandas import Series, DataFrame\n",
    "import matplotlib.pyplot as plt\n",
    "import seaborn as sns\n",
    "sns.set_style('whitegrid')\n",
    "from pandas_datareader import data\n",
    "from datetime import datetime\n",
    "%matplotlib inline"
   ]
  },
  {
   "cell_type": "code",
   "execution_count": 21,
   "metadata": {},
   "outputs": [],
   "source": [
    "# The tech stocks we'll use for this analysis\n",
    "tech_list = ['AAPL','GOOG','MSFT','AMZN']"
   ]
  },
  {
   "cell_type": "code",
   "execution_count": 22,
   "metadata": {},
   "outputs": [],
   "source": [
    "# Set up End and Start times for data grab\n",
    "end = datetime.now()\n",
    "start = datetime(end.year - 1,end.month,end.day)"
   ]
  },
  {
   "cell_type": "code",
   "execution_count": 23,
   "metadata": {},
   "outputs": [],
   "source": [
    "#For loop for grabing yahoo finance data and setting as a dataframe\n",
    "stocks = {}\n",
    "for stock in tech_list:\n",
    "    stocks[stock] = data.DataReader(stock,'yahoo',start,end)"
   ]
  },
  {
   "cell_type": "code",
   "execution_count": 24,
   "metadata": {},
   "outputs": [
    {
     "data": {
      "text/html": [
       "<div>\n",
       "<style scoped>\n",
       "    .dataframe tbody tr th:only-of-type {\n",
       "        vertical-align: middle;\n",
       "    }\n",
       "\n",
       "    .dataframe tbody tr th {\n",
       "        vertical-align: top;\n",
       "    }\n",
       "\n",
       "    .dataframe thead th {\n",
       "        text-align: right;\n",
       "    }\n",
       "</style>\n",
       "<table border=\"1\" class=\"dataframe\">\n",
       "  <thead>\n",
       "    <tr style=\"text-align: right;\">\n",
       "      <th></th>\n",
       "      <th>High</th>\n",
       "      <th>Low</th>\n",
       "      <th>Open</th>\n",
       "      <th>Close</th>\n",
       "      <th>Volume</th>\n",
       "      <th>Adj Close</th>\n",
       "    </tr>\n",
       "    <tr>\n",
       "      <th>Date</th>\n",
       "      <th></th>\n",
       "      <th></th>\n",
       "      <th></th>\n",
       "      <th></th>\n",
       "      <th></th>\n",
       "      <th></th>\n",
       "    </tr>\n",
       "  </thead>\n",
       "  <tbody>\n",
       "    <tr>\n",
       "      <th>2019-05-30</th>\n",
       "      <td>179.229996</td>\n",
       "      <td>176.669998</td>\n",
       "      <td>177.949997</td>\n",
       "      <td>178.300003</td>\n",
       "      <td>21218400.0</td>\n",
       "      <td>176.197189</td>\n",
       "    </tr>\n",
       "    <tr>\n",
       "      <th>2019-05-31</th>\n",
       "      <td>177.990005</td>\n",
       "      <td>174.990005</td>\n",
       "      <td>176.229996</td>\n",
       "      <td>175.070007</td>\n",
       "      <td>27043600.0</td>\n",
       "      <td>173.005280</td>\n",
       "    </tr>\n",
       "    <tr>\n",
       "      <th>2019-06-03</th>\n",
       "      <td>177.919998</td>\n",
       "      <td>170.270004</td>\n",
       "      <td>175.600006</td>\n",
       "      <td>173.300003</td>\n",
       "      <td>40396100.0</td>\n",
       "      <td>171.256134</td>\n",
       "    </tr>\n",
       "    <tr>\n",
       "      <th>2019-06-04</th>\n",
       "      <td>179.830002</td>\n",
       "      <td>174.520004</td>\n",
       "      <td>175.440002</td>\n",
       "      <td>179.639999</td>\n",
       "      <td>30968000.0</td>\n",
       "      <td>177.521378</td>\n",
       "    </tr>\n",
       "    <tr>\n",
       "      <th>2019-06-05</th>\n",
       "      <td>184.990005</td>\n",
       "      <td>181.139999</td>\n",
       "      <td>184.279999</td>\n",
       "      <td>182.539993</td>\n",
       "      <td>29773400.0</td>\n",
       "      <td>180.387146</td>\n",
       "    </tr>\n",
       "    <tr>\n",
       "      <th>...</th>\n",
       "      <td>...</td>\n",
       "      <td>...</td>\n",
       "      <td>...</td>\n",
       "      <td>...</td>\n",
       "      <td>...</td>\n",
       "      <td>...</td>\n",
       "    </tr>\n",
       "    <tr>\n",
       "      <th>2020-05-22</th>\n",
       "      <td>319.230011</td>\n",
       "      <td>315.350006</td>\n",
       "      <td>315.769989</td>\n",
       "      <td>318.890015</td>\n",
       "      <td>20450800.0</td>\n",
       "      <td>318.890015</td>\n",
       "    </tr>\n",
       "    <tr>\n",
       "      <th>2020-05-26</th>\n",
       "      <td>324.239990</td>\n",
       "      <td>316.500000</td>\n",
       "      <td>323.500000</td>\n",
       "      <td>316.730011</td>\n",
       "      <td>31380500.0</td>\n",
       "      <td>316.730011</td>\n",
       "    </tr>\n",
       "    <tr>\n",
       "      <th>2020-05-27</th>\n",
       "      <td>318.709991</td>\n",
       "      <td>313.089996</td>\n",
       "      <td>316.140015</td>\n",
       "      <td>318.109985</td>\n",
       "      <td>28236300.0</td>\n",
       "      <td>318.109985</td>\n",
       "    </tr>\n",
       "    <tr>\n",
       "      <th>2020-05-28</th>\n",
       "      <td>323.440002</td>\n",
       "      <td>315.630005</td>\n",
       "      <td>316.769989</td>\n",
       "      <td>318.250000</td>\n",
       "      <td>33390200.0</td>\n",
       "      <td>318.250000</td>\n",
       "    </tr>\n",
       "    <tr>\n",
       "      <th>2020-05-29</th>\n",
       "      <td>321.149994</td>\n",
       "      <td>316.470001</td>\n",
       "      <td>319.250000</td>\n",
       "      <td>317.940002</td>\n",
       "      <td>38383100.0</td>\n",
       "      <td>317.940002</td>\n",
       "    </tr>\n",
       "  </tbody>\n",
       "</table>\n",
       "<p>253 rows × 6 columns</p>\n",
       "</div>"
      ],
      "text/plain": [
       "                  High         Low        Open       Close      Volume  \\\n",
       "Date                                                                     \n",
       "2019-05-30  179.229996  176.669998  177.949997  178.300003  21218400.0   \n",
       "2019-05-31  177.990005  174.990005  176.229996  175.070007  27043600.0   \n",
       "2019-06-03  177.919998  170.270004  175.600006  173.300003  40396100.0   \n",
       "2019-06-04  179.830002  174.520004  175.440002  179.639999  30968000.0   \n",
       "2019-06-05  184.990005  181.139999  184.279999  182.539993  29773400.0   \n",
       "...                ...         ...         ...         ...         ...   \n",
       "2020-05-22  319.230011  315.350006  315.769989  318.890015  20450800.0   \n",
       "2020-05-26  324.239990  316.500000  323.500000  316.730011  31380500.0   \n",
       "2020-05-27  318.709991  313.089996  316.140015  318.109985  28236300.0   \n",
       "2020-05-28  323.440002  315.630005  316.769989  318.250000  33390200.0   \n",
       "2020-05-29  321.149994  316.470001  319.250000  317.940002  38383100.0   \n",
       "\n",
       "             Adj Close  \n",
       "Date                    \n",
       "2019-05-30  176.197189  \n",
       "2019-05-31  173.005280  \n",
       "2019-06-03  171.256134  \n",
       "2019-06-04  177.521378  \n",
       "2019-06-05  180.387146  \n",
       "...                ...  \n",
       "2020-05-22  318.890015  \n",
       "2020-05-26  316.730011  \n",
       "2020-05-27  318.109985  \n",
       "2020-05-28  318.250000  \n",
       "2020-05-29  317.940002  \n",
       "\n",
       "[253 rows x 6 columns]"
      ]
     },
     "execution_count": 24,
     "metadata": {},
     "output_type": "execute_result"
    }
   ],
   "source": [
    "stocks['AAPL']"
   ]
  },
  {
   "cell_type": "code",
   "execution_count": 6,
   "metadata": {},
   "outputs": [],
   "source": [
    "closing_df = data.DataReader(['AAPL','GOOG','MSFT','AMZN'],'yahoo',start,end)['Adj Close']"
   ]
  },
  {
   "cell_type": "code",
   "execution_count": 7,
   "metadata": {},
   "outputs": [
    {
     "data": {
      "text/html": [
       "<div>\n",
       "<style scoped>\n",
       "    .dataframe tbody tr th:only-of-type {\n",
       "        vertical-align: middle;\n",
       "    }\n",
       "\n",
       "    .dataframe tbody tr th {\n",
       "        vertical-align: top;\n",
       "    }\n",
       "\n",
       "    .dataframe thead th {\n",
       "        text-align: right;\n",
       "    }\n",
       "</style>\n",
       "<table border=\"1\" class=\"dataframe\">\n",
       "  <thead>\n",
       "    <tr style=\"text-align: right;\">\n",
       "      <th>Symbols</th>\n",
       "      <th>AAPL</th>\n",
       "      <th>GOOG</th>\n",
       "      <th>MSFT</th>\n",
       "      <th>AMZN</th>\n",
       "    </tr>\n",
       "    <tr>\n",
       "      <th>Date</th>\n",
       "      <th></th>\n",
       "      <th></th>\n",
       "      <th></th>\n",
       "      <th></th>\n",
       "    </tr>\n",
       "  </thead>\n",
       "  <tbody>\n",
       "    <tr>\n",
       "      <th>2019-05-30</th>\n",
       "      <td>176.197189</td>\n",
       "      <td>1117.949951</td>\n",
       "      <td>124.201653</td>\n",
       "      <td>1816.319946</td>\n",
       "    </tr>\n",
       "    <tr>\n",
       "      <th>2019-05-31</th>\n",
       "      <td>173.005280</td>\n",
       "      <td>1103.630005</td>\n",
       "      <td>122.176575</td>\n",
       "      <td>1775.069946</td>\n",
       "    </tr>\n",
       "    <tr>\n",
       "      <th>2019-06-03</th>\n",
       "      <td>171.256134</td>\n",
       "      <td>1036.229980</td>\n",
       "      <td>118.383247</td>\n",
       "      <td>1692.689941</td>\n",
       "    </tr>\n",
       "    <tr>\n",
       "      <th>2019-06-04</th>\n",
       "      <td>177.521378</td>\n",
       "      <td>1053.050049</td>\n",
       "      <td>121.662903</td>\n",
       "      <td>1729.560059</td>\n",
       "    </tr>\n",
       "    <tr>\n",
       "      <th>2019-06-05</th>\n",
       "      <td>180.387146</td>\n",
       "      <td>1042.219971</td>\n",
       "      <td>124.300446</td>\n",
       "      <td>1738.500000</td>\n",
       "    </tr>\n",
       "    <tr>\n",
       "      <th>...</th>\n",
       "      <td>...</td>\n",
       "      <td>...</td>\n",
       "      <td>...</td>\n",
       "      <td>...</td>\n",
       "    </tr>\n",
       "    <tr>\n",
       "      <th>2020-05-22</th>\n",
       "      <td>318.890015</td>\n",
       "      <td>1410.420044</td>\n",
       "      <td>183.509995</td>\n",
       "      <td>2436.879883</td>\n",
       "    </tr>\n",
       "    <tr>\n",
       "      <th>2020-05-26</th>\n",
       "      <td>316.730011</td>\n",
       "      <td>1417.020020</td>\n",
       "      <td>181.570007</td>\n",
       "      <td>2421.860107</td>\n",
       "    </tr>\n",
       "    <tr>\n",
       "      <th>2020-05-27</th>\n",
       "      <td>318.109985</td>\n",
       "      <td>1417.839966</td>\n",
       "      <td>181.809998</td>\n",
       "      <td>2410.389893</td>\n",
       "    </tr>\n",
       "    <tr>\n",
       "      <th>2020-05-28</th>\n",
       "      <td>318.250000</td>\n",
       "      <td>1416.729980</td>\n",
       "      <td>181.399994</td>\n",
       "      <td>2401.100098</td>\n",
       "    </tr>\n",
       "    <tr>\n",
       "      <th>2020-05-29</th>\n",
       "      <td>317.940002</td>\n",
       "      <td>1428.920044</td>\n",
       "      <td>183.250000</td>\n",
       "      <td>2442.370117</td>\n",
       "    </tr>\n",
       "  </tbody>\n",
       "</table>\n",
       "<p>253 rows × 4 columns</p>\n",
       "</div>"
      ],
      "text/plain": [
       "Symbols           AAPL         GOOG        MSFT         AMZN\n",
       "Date                                                        \n",
       "2019-05-30  176.197189  1117.949951  124.201653  1816.319946\n",
       "2019-05-31  173.005280  1103.630005  122.176575  1775.069946\n",
       "2019-06-03  171.256134  1036.229980  118.383247  1692.689941\n",
       "2019-06-04  177.521378  1053.050049  121.662903  1729.560059\n",
       "2019-06-05  180.387146  1042.219971  124.300446  1738.500000\n",
       "...                ...          ...         ...          ...\n",
       "2020-05-22  318.890015  1410.420044  183.509995  2436.879883\n",
       "2020-05-26  316.730011  1417.020020  181.570007  2421.860107\n",
       "2020-05-27  318.109985  1417.839966  181.809998  2410.389893\n",
       "2020-05-28  318.250000  1416.729980  181.399994  2401.100098\n",
       "2020-05-29  317.940002  1428.920044  183.250000  2442.370117\n",
       "\n",
       "[253 rows x 4 columns]"
      ]
     },
     "execution_count": 7,
     "metadata": {},
     "output_type": "execute_result"
    }
   ],
   "source": [
    "closing_df"
   ]
  },
  {
   "cell_type": "code",
   "execution_count": 8,
   "metadata": {
    "scrolled": true
   },
   "outputs": [
    {
     "data": {
      "text/html": [
       "<div>\n",
       "<style scoped>\n",
       "    .dataframe tbody tr th:only-of-type {\n",
       "        vertical-align: middle;\n",
       "    }\n",
       "\n",
       "    .dataframe tbody tr th {\n",
       "        vertical-align: top;\n",
       "    }\n",
       "\n",
       "    .dataframe thead tr th {\n",
       "        text-align: left;\n",
       "    }\n",
       "\n",
       "    .dataframe thead tr:last-of-type th {\n",
       "        text-align: right;\n",
       "    }\n",
       "</style>\n",
       "<table border=\"1\" class=\"dataframe\">\n",
       "  <thead>\n",
       "    <tr>\n",
       "      <th>Attributes</th>\n",
       "      <th colspan=\"4\" halign=\"left\">Adj Close</th>\n",
       "      <th colspan=\"4\" halign=\"left\">Close</th>\n",
       "      <th colspan=\"2\" halign=\"left\">High</th>\n",
       "      <th>...</th>\n",
       "      <th colspan=\"2\" halign=\"left\">Low</th>\n",
       "      <th colspan=\"4\" halign=\"left\">Open</th>\n",
       "      <th colspan=\"4\" halign=\"left\">Volume</th>\n",
       "    </tr>\n",
       "    <tr>\n",
       "      <th>Symbols</th>\n",
       "      <th>AAPL</th>\n",
       "      <th>GOOG</th>\n",
       "      <th>MSFT</th>\n",
       "      <th>AMZN</th>\n",
       "      <th>AAPL</th>\n",
       "      <th>GOOG</th>\n",
       "      <th>MSFT</th>\n",
       "      <th>AMZN</th>\n",
       "      <th>AAPL</th>\n",
       "      <th>GOOG</th>\n",
       "      <th>...</th>\n",
       "      <th>MSFT</th>\n",
       "      <th>AMZN</th>\n",
       "      <th>AAPL</th>\n",
       "      <th>GOOG</th>\n",
       "      <th>MSFT</th>\n",
       "      <th>AMZN</th>\n",
       "      <th>AAPL</th>\n",
       "      <th>GOOG</th>\n",
       "      <th>MSFT</th>\n",
       "      <th>AMZN</th>\n",
       "    </tr>\n",
       "    <tr>\n",
       "      <th>Date</th>\n",
       "      <th></th>\n",
       "      <th></th>\n",
       "      <th></th>\n",
       "      <th></th>\n",
       "      <th></th>\n",
       "      <th></th>\n",
       "      <th></th>\n",
       "      <th></th>\n",
       "      <th></th>\n",
       "      <th></th>\n",
       "      <th></th>\n",
       "      <th></th>\n",
       "      <th></th>\n",
       "      <th></th>\n",
       "      <th></th>\n",
       "      <th></th>\n",
       "      <th></th>\n",
       "      <th></th>\n",
       "      <th></th>\n",
       "      <th></th>\n",
       "      <th></th>\n",
       "    </tr>\n",
       "  </thead>\n",
       "  <tbody>\n",
       "    <tr>\n",
       "      <th>2019-05-28</th>\n",
       "      <td>176.128006</td>\n",
       "      <td>1134.150024</td>\n",
       "      <td>124.626442</td>\n",
       "      <td>1836.430054</td>\n",
       "      <td>178.229996</td>\n",
       "      <td>1134.150024</td>\n",
       "      <td>126.160004</td>\n",
       "      <td>1836.430054</td>\n",
       "      <td>180.589996</td>\n",
       "      <td>1151.587036</td>\n",
       "      <td>...</td>\n",
       "      <td>126.050003</td>\n",
       "      <td>1827.349976</td>\n",
       "      <td>178.919998</td>\n",
       "      <td>1134.000000</td>\n",
       "      <td>126.980003</td>\n",
       "      <td>1832.750000</td>\n",
       "      <td>27948200.0</td>\n",
       "      <td>1365000.0</td>\n",
       "      <td>23128400.0</td>\n",
       "      <td>3200000.0</td>\n",
       "    </tr>\n",
       "    <tr>\n",
       "      <th>2019-05-29</th>\n",
       "      <td>175.288025</td>\n",
       "      <td>1116.459961</td>\n",
       "      <td>123.421265</td>\n",
       "      <td>1819.189941</td>\n",
       "      <td>177.380005</td>\n",
       "      <td>1116.459961</td>\n",
       "      <td>124.940002</td>\n",
       "      <td>1819.189941</td>\n",
       "      <td>179.350006</td>\n",
       "      <td>1129.099976</td>\n",
       "      <td>...</td>\n",
       "      <td>124.040001</td>\n",
       "      <td>1807.530029</td>\n",
       "      <td>176.419998</td>\n",
       "      <td>1127.520020</td>\n",
       "      <td>125.379997</td>\n",
       "      <td>1823.119995</td>\n",
       "      <td>28481200.0</td>\n",
       "      <td>1538200.0</td>\n",
       "      <td>22763100.0</td>\n",
       "      <td>4279000.0</td>\n",
       "    </tr>\n",
       "    <tr>\n",
       "      <th>2019-05-30</th>\n",
       "      <td>176.197189</td>\n",
       "      <td>1117.949951</td>\n",
       "      <td>124.201653</td>\n",
       "      <td>1816.319946</td>\n",
       "      <td>178.300003</td>\n",
       "      <td>1117.949951</td>\n",
       "      <td>125.730003</td>\n",
       "      <td>1816.319946</td>\n",
       "      <td>179.229996</td>\n",
       "      <td>1123.130005</td>\n",
       "      <td>...</td>\n",
       "      <td>124.779999</td>\n",
       "      <td>1807.829956</td>\n",
       "      <td>177.949997</td>\n",
       "      <td>1115.540039</td>\n",
       "      <td>125.260002</td>\n",
       "      <td>1825.489990</td>\n",
       "      <td>21218400.0</td>\n",
       "      <td>951900.0</td>\n",
       "      <td>16829600.0</td>\n",
       "      <td>3146900.0</td>\n",
       "    </tr>\n",
       "    <tr>\n",
       "      <th>2019-05-31</th>\n",
       "      <td>173.005280</td>\n",
       "      <td>1103.630005</td>\n",
       "      <td>122.176575</td>\n",
       "      <td>1775.069946</td>\n",
       "      <td>175.070007</td>\n",
       "      <td>1103.630005</td>\n",
       "      <td>123.680000</td>\n",
       "      <td>1775.069946</td>\n",
       "      <td>177.990005</td>\n",
       "      <td>1109.599976</td>\n",
       "      <td>...</td>\n",
       "      <td>123.320000</td>\n",
       "      <td>1772.699951</td>\n",
       "      <td>176.229996</td>\n",
       "      <td>1101.290039</td>\n",
       "      <td>124.230003</td>\n",
       "      <td>1790.010010</td>\n",
       "      <td>27043600.0</td>\n",
       "      <td>1507800.0</td>\n",
       "      <td>26646800.0</td>\n",
       "      <td>4618800.0</td>\n",
       "    </tr>\n",
       "    <tr>\n",
       "      <th>2019-06-03</th>\n",
       "      <td>171.256134</td>\n",
       "      <td>1036.229980</td>\n",
       "      <td>118.383247</td>\n",
       "      <td>1692.689941</td>\n",
       "      <td>173.300003</td>\n",
       "      <td>1036.229980</td>\n",
       "      <td>119.839996</td>\n",
       "      <td>1692.689941</td>\n",
       "      <td>177.919998</td>\n",
       "      <td>1065.500000</td>\n",
       "      <td>...</td>\n",
       "      <td>119.010002</td>\n",
       "      <td>1672.000000</td>\n",
       "      <td>175.600006</td>\n",
       "      <td>1065.500000</td>\n",
       "      <td>123.849998</td>\n",
       "      <td>1760.010010</td>\n",
       "      <td>40396100.0</td>\n",
       "      <td>5130600.0</td>\n",
       "      <td>37983600.0</td>\n",
       "      <td>9098700.0</td>\n",
       "    </tr>\n",
       "  </tbody>\n",
       "</table>\n",
       "<p>5 rows × 24 columns</p>\n",
       "</div>"
      ],
      "text/plain": [
       "Attributes   Adj Close                                             Close  \\\n",
       "Symbols           AAPL         GOOG        MSFT         AMZN        AAPL   \n",
       "Date                                                                       \n",
       "2019-05-28  176.128006  1134.150024  124.626442  1836.430054  178.229996   \n",
       "2019-05-29  175.288025  1116.459961  123.421265  1819.189941  177.380005   \n",
       "2019-05-30  176.197189  1117.949951  124.201653  1816.319946  178.300003   \n",
       "2019-05-31  173.005280  1103.630005  122.176575  1775.069946  175.070007   \n",
       "2019-06-03  171.256134  1036.229980  118.383247  1692.689941  173.300003   \n",
       "\n",
       "Attributes                                              High               \\\n",
       "Symbols            GOOG        MSFT         AMZN        AAPL         GOOG   \n",
       "Date                                                                        \n",
       "2019-05-28  1134.150024  126.160004  1836.430054  180.589996  1151.587036   \n",
       "2019-05-29  1116.459961  124.940002  1819.189941  179.350006  1129.099976   \n",
       "2019-05-30  1117.949951  125.730003  1816.319946  179.229996  1123.130005   \n",
       "2019-05-31  1103.630005  123.680000  1775.069946  177.990005  1109.599976   \n",
       "2019-06-03  1036.229980  119.839996  1692.689941  177.919998  1065.500000   \n",
       "\n",
       "Attributes  ...         Low                     Open                           \\\n",
       "Symbols     ...        MSFT         AMZN        AAPL         GOOG        MSFT   \n",
       "Date        ...                                                                 \n",
       "2019-05-28  ...  126.050003  1827.349976  178.919998  1134.000000  126.980003   \n",
       "2019-05-29  ...  124.040001  1807.530029  176.419998  1127.520020  125.379997   \n",
       "2019-05-30  ...  124.779999  1807.829956  177.949997  1115.540039  125.260002   \n",
       "2019-05-31  ...  123.320000  1772.699951  176.229996  1101.290039  124.230003   \n",
       "2019-06-03  ...  119.010002  1672.000000  175.600006  1065.500000  123.849998   \n",
       "\n",
       "Attributes                   Volume                                    \n",
       "Symbols            AMZN        AAPL       GOOG        MSFT       AMZN  \n",
       "Date                                                                   \n",
       "2019-05-28  1832.750000  27948200.0  1365000.0  23128400.0  3200000.0  \n",
       "2019-05-29  1823.119995  28481200.0  1538200.0  22763100.0  4279000.0  \n",
       "2019-05-30  1825.489990  21218400.0   951900.0  16829600.0  3146900.0  \n",
       "2019-05-31  1790.010010  27043600.0  1507800.0  26646800.0  4618800.0  \n",
       "2019-06-03  1760.010010  40396100.0  5130600.0  37983600.0  9098700.0  \n",
       "\n",
       "[5 rows x 24 columns]"
      ]
     },
     "execution_count": 8,
     "metadata": {},
     "output_type": "execute_result"
    }
   ],
   "source": [
    "df = data.get_data_yahoo(['AAPL','GOOG','MSFT','AMZN'],start='29-05-2019',end='29-05-2020')\n",
    "df.head()"
   ]
  },
  {
   "cell_type": "code",
   "execution_count": 9,
   "metadata": {},
   "outputs": [],
   "source": [
    "#df0 = data.get_data_yahoo(symbols='AMZN',start='29-05-2019',end='29-05-2020')\n",
    "#df1 = data.get_data_yahoo(symbols='MSFT',start='29-05-2019',end='29-05-2020')\n",
    "#df2 = data.get_data_yahoo(symbols='GOOG',start='29-05-2019',end='29-05-2020')\n",
    "#df3 = data.get_data_yahoo(symbols='AAPL',start='29-05-2019',end='29-05-2020')\n"
   ]
  },
  {
   "cell_type": "code",
   "execution_count": 10,
   "metadata": {},
   "outputs": [],
   "source": [
    "#df0.head()"
   ]
  },
  {
   "cell_type": "code",
   "execution_count": 11,
   "metadata": {},
   "outputs": [],
   "source": [
    "#import webbrowser"
   ]
  },
  {
   "cell_type": "code",
   "execution_count": 12,
   "metadata": {},
   "outputs": [],
   "source": [
    "#web = 'https://in.finance.yahoo.com/quote/AAPL/history?p=AAPL'"
   ]
  },
  {
   "cell_type": "code",
   "execution_count": 13,
   "metadata": {},
   "outputs": [],
   "source": [
    "#webbrowser.open(web)"
   ]
  },
  {
   "cell_type": "code",
   "execution_count": 14,
   "metadata": {},
   "outputs": [],
   "source": [
    "#data1= pd.read_clipboard()"
   ]
  },
  {
   "cell_type": "code",
   "execution_count": 15,
   "metadata": {},
   "outputs": [],
   "source": [
    "#data1.head()"
   ]
  },
  {
   "cell_type": "code",
   "execution_count": 16,
   "metadata": {},
   "outputs": [
    {
     "data": {
      "text/html": [
       "<div>\n",
       "<style scoped>\n",
       "    .dataframe tbody tr th:only-of-type {\n",
       "        vertical-align: middle;\n",
       "    }\n",
       "\n",
       "    .dataframe tbody tr th {\n",
       "        vertical-align: top;\n",
       "    }\n",
       "\n",
       "    .dataframe thead th {\n",
       "        text-align: right;\n",
       "    }\n",
       "</style>\n",
       "<table border=\"1\" class=\"dataframe\">\n",
       "  <thead>\n",
       "    <tr style=\"text-align: right;\">\n",
       "      <th></th>\n",
       "      <th>High</th>\n",
       "      <th>Low</th>\n",
       "      <th>Open</th>\n",
       "      <th>Close</th>\n",
       "      <th>Volume</th>\n",
       "      <th>Adj Close</th>\n",
       "    </tr>\n",
       "    <tr>\n",
       "      <th>Date</th>\n",
       "      <th></th>\n",
       "      <th></th>\n",
       "      <th></th>\n",
       "      <th></th>\n",
       "      <th></th>\n",
       "      <th></th>\n",
       "    </tr>\n",
       "  </thead>\n",
       "  <tbody>\n",
       "    <tr>\n",
       "      <th>2019-05-28</th>\n",
       "      <td>1849.270020</td>\n",
       "      <td>1827.349976</td>\n",
       "      <td>1832.750000</td>\n",
       "      <td>1836.430054</td>\n",
       "      <td>3200000</td>\n",
       "      <td>1836.430054</td>\n",
       "    </tr>\n",
       "    <tr>\n",
       "      <th>2019-05-29</th>\n",
       "      <td>1830.000000</td>\n",
       "      <td>1807.530029</td>\n",
       "      <td>1823.119995</td>\n",
       "      <td>1819.189941</td>\n",
       "      <td>4279000</td>\n",
       "      <td>1819.189941</td>\n",
       "    </tr>\n",
       "    <tr>\n",
       "      <th>2019-05-30</th>\n",
       "      <td>1829.469971</td>\n",
       "      <td>1807.829956</td>\n",
       "      <td>1825.489990</td>\n",
       "      <td>1816.319946</td>\n",
       "      <td>3146900</td>\n",
       "      <td>1816.319946</td>\n",
       "    </tr>\n",
       "    <tr>\n",
       "      <th>2019-05-31</th>\n",
       "      <td>1795.589966</td>\n",
       "      <td>1772.699951</td>\n",
       "      <td>1790.010010</td>\n",
       "      <td>1775.069946</td>\n",
       "      <td>4618800</td>\n",
       "      <td>1775.069946</td>\n",
       "    </tr>\n",
       "    <tr>\n",
       "      <th>2019-06-03</th>\n",
       "      <td>1766.290039</td>\n",
       "      <td>1672.000000</td>\n",
       "      <td>1760.010010</td>\n",
       "      <td>1692.689941</td>\n",
       "      <td>9098700</td>\n",
       "      <td>1692.689941</td>\n",
       "    </tr>\n",
       "  </tbody>\n",
       "</table>\n",
       "</div>"
      ],
      "text/plain": [
       "                   High          Low         Open        Close   Volume  \\\n",
       "Date                                                                      \n",
       "2019-05-28  1849.270020  1827.349976  1832.750000  1836.430054  3200000   \n",
       "2019-05-29  1830.000000  1807.530029  1823.119995  1819.189941  4279000   \n",
       "2019-05-30  1829.469971  1807.829956  1825.489990  1816.319946  3146900   \n",
       "2019-05-31  1795.589966  1772.699951  1790.010010  1775.069946  4618800   \n",
       "2019-06-03  1766.290039  1672.000000  1760.010010  1692.689941  9098700   \n",
       "\n",
       "              Adj Close  \n",
       "Date                     \n",
       "2019-05-28  1836.430054  \n",
       "2019-05-29  1819.189941  \n",
       "2019-05-30  1816.319946  \n",
       "2019-05-31  1775.069946  \n",
       "2019-06-03  1692.689941  "
      ]
     },
     "execution_count": 16,
     "metadata": {},
     "output_type": "execute_result"
    }
   ],
   "source": [
    "amzn=data.get_data_yahoo(symbols='AMZN',start='29-05-2019',end='29-05-2020')\n",
    "amzn.head()"
   ]
  },
  {
   "cell_type": "code",
   "execution_count": 17,
   "metadata": {},
   "outputs": [
    {
     "name": "stdout",
     "output_type": "stream",
     "text": [
      "<class 'pandas.core.frame.DataFrame'>\n",
      "DatetimeIndex: 255 entries, 2019-05-28 to 2020-05-29\n",
      "Data columns (total 6 columns):\n",
      "High         255 non-null float64\n",
      "Low          255 non-null float64\n",
      "Open         255 non-null float64\n",
      "Close        255 non-null float64\n",
      "Volume       255 non-null int64\n",
      "Adj Close    255 non-null float64\n",
      "dtypes: float64(5), int64(1)\n",
      "memory usage: 13.9 KB\n"
     ]
    }
   ],
   "source": [
    "amzn.info()"
   ]
  },
  {
   "cell_type": "markdown",
   "metadata": {},
   "source": [
    "1.) What was the change in price of the stock over time?"
   ]
  },
  {
   "cell_type": "code",
   "execution_count": 18,
   "metadata": {
    "scrolled": false
   },
   "outputs": [
    {
     "data": {
      "text/plain": [
       "<matplotlib.axes._subplots.AxesSubplot at 0xed31810>"
      ]
     },
     "execution_count": 18,
     "metadata": {},
     "output_type": "execute_result"
    },
    {
     "data": {
      "image/png": "[encoded data removed]",
      "text/plain": [
       "<Figure size 720x288 with 1 Axes>"
      ]
     },
     "metadata": {
      "needs_background": "light"
     },
     "output_type": "display_data"
    }
   ],
   "source": [
    "# Let's see a historical view of the closing price\n",
    "amzn['Adj Close'].plot(legend=True,figsize=(10,4))"
   ]
  },
  {
   "cell_type": "code",
   "execution_count": 25,
   "metadata": {},
   "outputs": [],
   "source": [
    "#df0['Adj Close'].plot(legend=True,figsize=(10,4))"
   ]
  },
  {
   "cell_type": "markdown",
   "metadata": {},
   "source": [
    "2.) What was the daily return of the stock on average?"
   ]
  },
  {
   "cell_type": "code",
   "execution_count": 26,
   "metadata": {},
   "outputs": [
    {
     "data": {
      "text/plain": [
       "Date\n",
       "2019-05-28         NaN\n",
       "2019-05-29   -0.009388\n",
       "2019-05-30   -0.001578\n",
       "2019-05-31   -0.022711\n",
       "2019-06-03   -0.046409\n",
       "                ...   \n",
       "2020-05-22   -0.004030\n",
       "2020-05-26   -0.006164\n",
       "2020-05-27   -0.004736\n",
       "2020-05-28   -0.003854\n",
       "2020-05-29    0.017188\n",
       "Name: Daily Return, Length: 255, dtype: float64"
      ]
     },
     "execution_count": 26,
     "metadata": {},
     "output_type": "execute_result"
    }
   ],
   "source": [
    "# We'll use pct_change to find the percent change for each day\n",
    "amzn['Daily Return'] = amzn['Adj Close'].pct_change()\n",
    "amzn['Daily Return']"
   ]
  },
  {
   "cell_type": "code",
   "execution_count": null,
   "metadata": {
    "scrolled": false
   },
   "outputs": [],
   "source": [
    "#amzn['Daily Return'].plot(legend= True,figsize=(10,6))"
   ]
  },
  {
   "cell_type": "markdown",
   "metadata": {},
   "source": [
    "3.) What was the moving average of the various stocks?\n",
    "4.) What was the correlation between different stocks' daily returns?"
   ]
  },
  {
   "cell_type": "code",
   "execution_count": null,
   "metadata": {},
   "outputs": [],
   "source": [
    "# Make a new tech returns DataFrame\n",
    "tech_rets = closing_df.pct_change()\n",
    "tech_rets"
   ]
  },
  {
   "cell_type": "code",
   "execution_count": null,
   "metadata": {},
   "outputs": [],
   "source": [
    "tech_rets.plot(legend= True,figsize=(10,6))"
   ]
  },
  {
   "cell_type": "code",
   "execution_count": null,
   "metadata": {},
   "outputs": [],
   "source": [
    "sns.pairplot(tech_rets.dropna())"
   ]
  },
  {
   "cell_type": "code",
   "execution_count": null,
   "metadata": {},
   "outputs": [],
   "source": [
    "sns.jointplot('AAPL','GOOG',data=tech_rets,kind='scatter')"
   ]
  },
  {
   "cell_type": "markdown",
   "metadata": {},
   "source": [
    "4.) What was the correlation between different stocks' closing prices?"
   ]
  },
  {
   "cell_type": "code",
   "execution_count": null,
   "metadata": {},
   "outputs": [],
   "source": [
    "close_df = data.DataReader(['AAPL','GOOG','MSFT','AMZN'],'yahoo',start,end)['Close']\n",
    "close_df"
   ]
  },
  {
   "cell_type": "code",
   "execution_count": null,
   "metadata": {},
   "outputs": [],
   "source": [
    "sns.jointplot('AAPL','MSFT',close_df,kind='scatter')"
   ]
  },
  {
   "cell_type": "code",
   "execution_count": null,
   "metadata": {
    "scrolled": false
   },
   "outputs": [],
   "source": [
    "close_df.plot(legend= True,figsize=(10,6))"
   ]
  },
  {
   "cell_type": "code",
   "execution_count": null,
   "metadata": {},
   "outputs": [],
   "source": [
    "df['Close'].plot(legend= True,figsize=(10,6))"
   ]
  },
  {
   "cell_type": "markdown",
   "metadata": {},
   "source": [
    "## Rolling Means (Trends and Seasonality)"
   ]
  },
  {
   "cell_type": "code",
   "execution_count": null,
   "metadata": {},
   "outputs": [],
   "source": [
    "amzn_adj_close = amzn['Adj Close']\n",
    "\n",
    "# Short moving window rolling mean\n",
    "amzn['32'] = amzn_adj_close.rolling(window=6).mean()\n",
    "\n",
    "# Long moving window rolling mean\n",
    "amzn['100'] = amzn_adj_close.rolling(window=10).mean()\n",
    "\n",
    "# Plot the adjusted closing price, the short and long windows of rolling means\n",
    "amzn[['Adj Close', '32', '100']].plot(title=\"AMZN\")\n",
    "\n",
    "# Show plot\n",
    "plt.show()\n"
   ]
  },
  {
   "cell_type": "code",
   "execution_count": null,
   "metadata": {},
   "outputs": [],
   "source": []
  },
  {
   "cell_type": "code",
   "execution_count": null,
   "metadata": {},
   "outputs": [],
   "source": []
  }
 ],
 "metadata": {
  "kernelspec": {
   "display_name": "Python 3",
   "language": "python",
   "name": "python3"
  },
  "language_info": {
   "codemirror_mode": {
    "name": "ipython",
    "version": 3
   },
   "file_extension": ".py",
   "mimetype": "text/x-python",
   "name": "python",
   "nbconvert_exporter": "python",
   "pygments_lexer": "ipython3",
   "version": "3.7.4"
  }
 },
 "nbformat": 4,
 "nbformat_minor": 2
}
